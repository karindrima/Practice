{
 "cells": [
  {
   "cell_type": "code",
   "execution_count": 1,
   "id": "a996343c",
   "metadata": {},
   "outputs": [
    {
     "name": "stdout",
     "output_type": "stream",
     "text": [
      "Requirement already satisfied: opencv-python in d:\\users\\house of musa\\anaconda3\\lib\\site-packages (4.10.0.84)\n",
      "Requirement already satisfied: numpy>=1.21.2 in d:\\users\\house of musa\\anaconda3\\lib\\site-packages (from opencv-python) (1.23.5)\n",
      "Collecting tensor\n",
      "  Using cached tensor-0.3.6.tar.gz (50 kB)\n",
      "  Preparing metadata (setup.py): started\n",
      "  Preparing metadata (setup.py): finished with status 'done'\n",
      "Collecting flow\n",
      "  Using cached flow-0.1.2.tar.gz (139 kB)\n",
      "  Preparing metadata (setup.py): started\n",
      "  Preparing metadata (setup.py): finished with status 'error'\n"
     ]
    },
    {
     "name": "stderr",
     "output_type": "stream",
     "text": [
      "  error: subprocess-exited-with-error\n",
      "  \n",
      "  python setup.py egg_info did not run successfully.\n",
      "  exit code: 1\n",
      "  \n",
      "  [10 lines of output]\n",
      "  Traceback (most recent call last):\n",
      "    File \"<string>\", line 2, in <module>\n",
      "    File \"<pip-setuptools-caller>\", line 34, in <module>\n",
      "    File \"C:\\Users\\House of Musa\\AppData\\Local\\Temp\\pip-install-5uuenbz6\\flow_8c763b66cf79425cb77e2c55f914d8c4\\setup.py\", line 35, in <module>\n",
      "      long_description = f.read()\n",
      "                         ^^^^^^^^\n",
      "    File \"D:\\Users\\House of Musa\\anaconda3\\Lib\\encodings\\cp1252.py\", line 23, in decode\n",
      "      return codecs.charmap_decode(input,self.errors,decoding_table)[0]\n",
      "             ^^^^^^^^^^^^^^^^^^^^^^^^^^^^^^^^^^^^^^^^^^^^^^^^^^^^^^^\n",
      "  UnicodeDecodeError: 'charmap' codec can't decode byte 0x9d in position 2601: character maps to <undefined>\n",
      "  [end of output]\n",
      "  \n",
      "  note: This error originates from a subprocess, and is likely not a problem with pip.\n",
      "error: metadata-generation-failed\n",
      "\n",
      "Encountered error while generating package metadata.\n",
      "\n",
      "See above for output.\n",
      "\n",
      "note: This is an issue with the package mentioned above, not pip.\n",
      "hint: See above for details.\n"
     ]
    },
    {
     "name": "stdout",
     "output_type": "stream",
     "text": [
      "Requirement already satisfied: numpy in d:\\users\\house of musa\\anaconda3\\lib\\site-packages (1.23.5)\n",
      "Requirement already satisfied: pandas in d:\\users\\house of musa\\anaconda3\\lib\\site-packages (2.0.3)\n",
      "Requirement already satisfied: python-dateutil>=2.8.2 in d:\\users\\house of musa\\anaconda3\\lib\\site-packages (from pandas) (2.8.2)\n",
      "Requirement already satisfied: pytz>=2020.1 in d:\\users\\house of musa\\anaconda3\\lib\\site-packages (from pandas) (2023.3.post1)\n",
      "Requirement already satisfied: tzdata>=2022.1 in d:\\users\\house of musa\\anaconda3\\lib\\site-packages (from pandas) (2023.3)\n",
      "Requirement already satisfied: numpy>=1.21.0 in d:\\users\\house of musa\\anaconda3\\lib\\site-packages (from pandas) (1.23.5)\n",
      "Requirement already satisfied: six>=1.5 in d:\\users\\house of musa\\anaconda3\\lib\\site-packages (from python-dateutil>=2.8.2->pandas) (1.16.0)\n",
      "Requirement already satisfied: keras in c:\\users\\house of musa\\appdata\\roaming\\python\\python311\\site-packages (2.12.0)\n",
      "Requirement already satisfied: adam in d:\\users\\house of musa\\anaconda3\\lib\\site-packages (0.0.0.dev0)\n"
     ]
    },
    {
     "name": "stderr",
     "output_type": "stream",
     "text": [
      "ERROR: Could not find a version that satisfies the requirement kwargs (from versions: none)\n",
      "ERROR: No matching distribution found for kwargs\n"
     ]
    },
    {
     "name": "stdout",
     "output_type": "stream",
     "text": [
      "Requirement already satisfied: cinit in d:\\users\\house of musa\\anaconda3\\lib\\site-packages (0.1.0)\n"
     ]
    }
   ],
   "source": [
    "!pip install opencv-python\n",
    "!pip install tensor flow\n",
    "!pip install numpy\n",
    "!pip install pandas\n",
    "!pip install keras\n",
    "!pip install adam\n",
    "!pip install kwargs\n",
    "!pip install cinit"
   ]
  },
  {
   "cell_type": "code",
   "execution_count": 2,
   "id": "79a6439c",
   "metadata": {},
   "outputs": [],
   "source": [
    "import sys, os\n",
    "import pandas as pd\n",
    "import numpy as np\n",
    "from keras.models import Sequential\n",
    "from keras.layers import Dense, Dropout, Activation, Flatten\n",
    "from keras.layers import Conv2D, MaxPooling2D, BatchNormalization,AveragePooling2D\n",
    "from keras.losses import categorical_crossentropy\n",
    "from keras.optimizers import Adam\n",
    "from keras.regularizers import l2\n",
    "#from keras.utils import np_utils\n",
    "from keras.utils import to_categorical"
   ]
  },
  {
   "cell_type": "code",
   "execution_count": 3,
   "id": "1ba01a87",
   "metadata": {},
   "outputs": [],
   "source": [
    "df = pd.read_csv(r'D:\\data\\EEC\\EEC dataset\\fer2013.csv')"
   ]
  },
  {
   "cell_type": "code",
   "execution_count": 4,
   "id": "5e5767f1",
   "metadata": {},
   "outputs": [
    {
     "data": {
      "text/html": [
       "<div>\n",
       "<style scoped>\n",
       "    .dataframe tbody tr th:only-of-type {\n",
       "        vertical-align: middle;\n",
       "    }\n",
       "\n",
       "    .dataframe tbody tr th {\n",
       "        vertical-align: top;\n",
       "    }\n",
       "\n",
       "    .dataframe thead th {\n",
       "        text-align: right;\n",
       "    }\n",
       "</style>\n",
       "<table border=\"1\" class=\"dataframe\">\n",
       "  <thead>\n",
       "    <tr style=\"text-align: right;\">\n",
       "      <th></th>\n",
       "      <th>emotion</th>\n",
       "      <th>pixels</th>\n",
       "      <th>Usage</th>\n",
       "    </tr>\n",
       "  </thead>\n",
       "  <tbody>\n",
       "    <tr>\n",
       "      <th>0</th>\n",
       "      <td>0</td>\n",
       "      <td>70 80 82 72 58 58 60 63 54 58 60 48 89 115 121...</td>\n",
       "      <td>Training</td>\n",
       "    </tr>\n",
       "    <tr>\n",
       "      <th>1</th>\n",
       "      <td>0</td>\n",
       "      <td>151 150 147 155 148 133 111 140 170 174 182 15...</td>\n",
       "      <td>Training</td>\n",
       "    </tr>\n",
       "    <tr>\n",
       "      <th>2</th>\n",
       "      <td>2</td>\n",
       "      <td>231 212 156 164 174 138 161 173 182 200 106 38...</td>\n",
       "      <td>Training</td>\n",
       "    </tr>\n",
       "    <tr>\n",
       "      <th>3</th>\n",
       "      <td>4</td>\n",
       "      <td>24 32 36 30 32 23 19 20 30 41 21 22 32 34 21 1...</td>\n",
       "      <td>Training</td>\n",
       "    </tr>\n",
       "    <tr>\n",
       "      <th>4</th>\n",
       "      <td>6</td>\n",
       "      <td>4 0 0 0 0 0 0 0 0 0 0 0 3 15 23 28 48 50 58 84...</td>\n",
       "      <td>Training</td>\n",
       "    </tr>\n",
       "  </tbody>\n",
       "</table>\n",
       "</div>"
      ],
      "text/plain": [
       "   emotion                                             pixels     Usage\n",
       "0        0  70 80 82 72 58 58 60 63 54 58 60 48 89 115 121...  Training\n",
       "1        0  151 150 147 155 148 133 111 140 170 174 182 15...  Training\n",
       "2        2  231 212 156 164 174 138 161 173 182 200 106 38...  Training\n",
       "3        4  24 32 36 30 32 23 19 20 30 41 21 22 32 34 21 1...  Training\n",
       "4        6  4 0 0 0 0 0 0 0 0 0 0 0 3 15 23 28 48 50 58 84...  Training"
      ]
     },
     "execution_count": 4,
     "metadata": {},
     "output_type": "execute_result"
    }
   ],
   "source": [
    "df.head()"
   ]
  },
  {
   "cell_type": "code",
   "execution_count": 5,
   "id": "ec04b68e",
   "metadata": {},
   "outputs": [
    {
     "name": "stdout",
     "output_type": "stream",
     "text": [
      "<class 'pandas.core.frame.DataFrame'>\n",
      "RangeIndex: 35887 entries, 0 to 35886\n",
      "Data columns (total 3 columns):\n",
      " #   Column   Non-Null Count  Dtype \n",
      "---  ------   --------------  ----- \n",
      " 0   emotion  35887 non-null  int64 \n",
      " 1   pixels   35887 non-null  object\n",
      " 2   Usage    35887 non-null  object\n",
      "dtypes: int64(1), object(2)\n",
      "memory usage: 841.2+ KB\n",
      "None\n",
      "Usage\n",
      "Training       28709\n",
      "PublicTest      3589\n",
      "PrivateTest     3589\n",
      "Name: count, dtype: int64\n"
     ]
    }
   ],
   "source": [
    "print(df.info())\n",
    "print(df[\"Usage\"].value_counts())"
   ]
  },
  {
   "cell_type": "code",
   "execution_count": 6,
   "id": "48090d1a",
   "metadata": {},
   "outputs": [],
   "source": [
    "X_train,train_y,X_test,test_y=[],[],[],[]\n",
    "\n",
    "for index, row in df.iterrows():\n",
    "    val=row['pixels'].split(\" \")\n",
    "    try:\n",
    "        if 'Training' in row['Usage']:\n",
    "           X_train.append(np.array(val,'float32'))\n",
    "           train_y.append(row['emotion'])\n",
    "        elif 'PublicTest' in row['Usage']:\n",
    "           X_test.append(np.array(val,'float32'))\n",
    "           test_y.append(row['emotion'])\n",
    "    except:\n",
    "        print(f\"error occured at index :{index} and row:{row}\")"
   ]
  },
  {
   "cell_type": "code",
   "execution_count": 7,
   "id": "b13908be",
   "metadata": {},
   "outputs": [],
   "source": [
    "num_features = 64\n",
    "num_labels = 7\n",
    "batch_size = 64\n",
    "epochs = 30\n",
    "width, height = 48, 48"
   ]
  },
  {
   "cell_type": "code",
   "execution_count": 8,
   "id": "1e05ea58",
   "metadata": {},
   "outputs": [],
   "source": [
    "X_train = np.array(X_train,'float32')\n",
    "train_y = np.array(train_y,'float32')\n",
    "X_test = np.array(X_test,'float32')\n",
    "test_y = np.array(test_y,'float32')"
   ]
  },
  {
   "cell_type": "code",
   "execution_count": 9,
   "id": "5959d120",
   "metadata": {},
   "outputs": [],
   "source": [
    "train_y=to_categorical(train_y, num_classes=num_labels)\n",
    "test_y=to_categorical(test_y, num_classes=num_labels)"
   ]
  },
  {
   "cell_type": "code",
   "execution_count": 10,
   "id": "196d8b32",
   "metadata": {},
   "outputs": [],
   "source": [
    "X_train -= np.mean(X_train, axis=0)\n",
    "X_train /= np.std(X_train, axis=0)\n",
    "X_test -= np.mean(X_test, axis=0)\n",
    "X_test /= np.std(X_test, axis=0)\n",
    "X_train = X_train.reshape(X_train.shape[0], 48, 48, 1)\n",
    "X_test = X_test.reshape(X_test.shape[0], 48, 48, 1)"
   ]
  },
  {
   "cell_type": "code",
   "execution_count": 11,
   "id": "031c8201",
   "metadata": {},
   "outputs": [],
   "source": [
    "#1st convolution layer\n",
    "\n",
    "model = Sequential()\n",
    "model.add(Conv2D(64, kernel_size=(3, 3), activation='relu', input_shape=(X_train.shape[1:])))\n",
    "model.add(Conv2D(64,kernel_size= (3, 3), activation='relu'))\n",
    "# model.add(BatchNormalization())\n",
    "model.add(MaxPooling2D(pool_size=(2,2), strides=(2, 2)))\n",
    "model.add(Dropout(0.5))"
   ]
  },
  {
   "cell_type": "code",
   "execution_count": 12,
   "id": "3e62299a",
   "metadata": {},
   "outputs": [],
   "source": [
    "#2nd convolution layer\n",
    "\n",
    "model.add(Conv2D(64, (3, 3), activation='relu'))\n",
    "model.add(Conv2D(64, (3, 3), activation='relu'))\n",
    "# model.add(BatchNormalization())\n",
    "model.add(MaxPooling2D(pool_size=(2,2), strides=(2, 2)))\n",
    "model.add(Dropout(0.5))"
   ]
  },
  {
   "cell_type": "code",
   "execution_count": 13,
   "id": "14f57517",
   "metadata": {},
   "outputs": [],
   "source": [
    "#3rd Convolution Layer\n",
    "model.add(Conv2D(128, (3, 3), activation='relu'))\n",
    "model.add(Conv2D(128, (3, 3), activation='relu'))\n",
    "# model.add(BatchNormalization())\n",
    "model.add(MaxPooling2D(pool_size=(2,2), strides=(2, 2)))\n",
    "model.add(Flatten())"
   ]
  },
  {
   "cell_type": "code",
   "execution_count": 14,
   "id": "f08c332b",
   "metadata": {},
   "outputs": [],
   "source": [
    "#Fully connected neural network\n",
    "model.add(Dense(1024, activation='relu'))\n",
    "model.add(Dropout(0.2))\n",
    "model.add(Dense(1024, activation='relu'))\n",
    "model.add(Dropout(0.2))\n",
    "model.add(Dense(num_labels, activation='softmax'))\n",
    "# model.summary()"
   ]
  },
  {
   "cell_type": "code",
   "execution_count": 15,
   "id": "261e86ef",
   "metadata": {},
   "outputs": [],
   "source": [
    "#Training\n",
    "\n",
    "from keras.models import Sequential\n",
    "from keras.layers import Dense, Dropout, Activation\n",
    "from keras.optimizers import SGD\n",
    "import keras\n",
    "import keras.utils\n",
    "from keras import utils as np_utils"
   ]
  },
  {
   "cell_type": "code",
   "execution_count": 16,
   "id": "97b814f6",
   "metadata": {},
   "outputs": [
    {
     "name": "stderr",
     "output_type": "stream",
     "text": [
      "C:\\Users\\House of Musa\\AppData\\Local\\Temp\\ipykernel_20304\\4198441462.py:8: UserWarning: `Model.fit_generator` is deprecated and will be removed in a future version. Please use `Model.fit`, which supports generators.\n",
      "  model.fit_generator(train_generator, steps_per_epoch=batch_size, epochs=epochs)\n"
     ]
    },
    {
     "name": "stdout",
     "output_type": "stream",
     "text": [
      "Epoch 1/30\n",
      "64/64 [==============================] - 54s 677ms/step - loss: 1.8332 - accuracy: 0.2234\n",
      "Epoch 2/30\n",
      "64/64 [==============================] - 54s 841ms/step - loss: 1.7806 - accuracy: 0.2542\n",
      "Epoch 3/30\n",
      "64/64 [==============================] - 52s 807ms/step - loss: 1.7428 - accuracy: 0.2870\n",
      "Epoch 4/30\n",
      "64/64 [==============================] - 50s 787ms/step - loss: 1.7142 - accuracy: 0.3149\n",
      "Epoch 5/30\n",
      "64/64 [==============================] - 46s 721ms/step - loss: 1.6308 - accuracy: 0.3391\n",
      "Epoch 6/30\n",
      "64/64 [==============================] - 39s 603ms/step - loss: 1.6139 - accuracy: 0.3615\n",
      "Epoch 7/30\n",
      "64/64 [==============================] - 38s 595ms/step - loss: 1.5890 - accuracy: 0.3784\n",
      "Epoch 8/30\n",
      "64/64 [==============================] - 45s 703ms/step - loss: 1.5480 - accuracy: 0.3911\n",
      "Epoch 9/30\n",
      "64/64 [==============================] - 38s 593ms/step - loss: 1.5158 - accuracy: 0.4031\n",
      "Epoch 10/30\n",
      "64/64 [==============================] - 43s 678ms/step - loss: 1.4757 - accuracy: 0.4189\n",
      "Epoch 11/30\n",
      "64/64 [==============================] - 44s 682ms/step - loss: 1.4744 - accuracy: 0.4231\n",
      "Epoch 12/30\n",
      "64/64 [==============================] - 38s 588ms/step - loss: 1.4549 - accuracy: 0.4397\n",
      "Epoch 13/30\n",
      "64/64 [==============================] - 39s 608ms/step - loss: 1.4438 - accuracy: 0.4326\n",
      "Epoch 14/30\n",
      "64/64 [==============================] - 34s 528ms/step - loss: 1.4021 - accuracy: 0.4529\n",
      "Epoch 15/30\n",
      "64/64 [==============================] - 30s 462ms/step - loss: 1.3870 - accuracy: 0.4551\n",
      "Epoch 16/30\n",
      "64/64 [==============================] - 32s 500ms/step - loss: 1.3967 - accuracy: 0.4585\n",
      "Epoch 17/30\n",
      "64/64 [==============================] - 32s 497ms/step - loss: 1.3644 - accuracy: 0.4795\n",
      "Epoch 18/30\n",
      "64/64 [==============================] - 34s 524ms/step - loss: 1.3699 - accuracy: 0.4753\n",
      "Epoch 19/30\n",
      "64/64 [==============================] - 33s 522ms/step - loss: 1.3334 - accuracy: 0.4824\n",
      "Epoch 20/30\n",
      "64/64 [==============================] - 40s 624ms/step - loss: 1.3828 - accuracy: 0.4608\n",
      "Epoch 21/30\n",
      "64/64 [==============================] - 38s 602ms/step - loss: 1.3450 - accuracy: 0.4880\n",
      "Epoch 22/30\n",
      "64/64 [==============================] - 34s 529ms/step - loss: 1.3295 - accuracy: 0.4822\n",
      "Epoch 23/30\n",
      "64/64 [==============================] - 36s 566ms/step - loss: 1.3013 - accuracy: 0.5032\n",
      "Epoch 24/30\n",
      "64/64 [==============================] - 45s 713ms/step - loss: 1.3155 - accuracy: 0.4890\n",
      "Epoch 25/30\n",
      "64/64 [==============================] - 38s 584ms/step - loss: 1.3242 - accuracy: 0.5005\n",
      "Epoch 26/30\n",
      "64/64 [==============================] - 37s 580ms/step - loss: 1.2995 - accuracy: 0.4893\n",
      "Epoch 27/30\n",
      "64/64 [==============================] - 36s 561ms/step - loss: 1.3029 - accuracy: 0.4990\n",
      "Epoch 28/30\n",
      "64/64 [==============================] - 36s 565ms/step - loss: 1.3022 - accuracy: 0.4941\n",
      "Epoch 29/30\n",
      "64/64 [==============================] - 38s 598ms/step - loss: 1.3037 - accuracy: 0.5034\n",
      "Epoch 30/30\n",
      "64/64 [==============================] - 40s 618ms/step - loss: 1.2897 - accuracy: 0.5068\n"
     ]
    },
    {
     "data": {
      "text/plain": [
       "<keras.callbacks.History at 0x23c5af67690>"
      ]
     },
     "execution_count": 16,
     "metadata": {},
     "output_type": "execute_result"
    }
   ],
   "source": [
    "from keras.preprocessing.image import ImageDataGenerator\n",
    "gen = ImageDataGenerator()\n",
    "train_generator = gen.flow(X_train, train_y, batch_size=batch_size)\n",
    "model.compile(loss='categorical_crossentropy'\n",
    ", optimizer=keras.optimizers.Adam()\n",
    ", metrics=['accuracy']\n",
    ")\n",
    "model.fit_generator(train_generator, steps_per_epoch=batch_size, epochs=epochs)"
   ]
  },
  {
   "cell_type": "code",
   "execution_count": 17,
   "id": "037bb849",
   "metadata": {},
   "outputs": [],
   "source": [
    "#Method 2 Compiling the model\n",
    "\n",
    "model.compile(loss=categorical_crossentropy,\n",
    "              optimizer=Adam(),\n",
    "              metrics=['accuracy'])"
   ]
  },
  {
   "cell_type": "code",
   "execution_count": null,
   "id": "dfebdf16",
   "metadata": {},
   "outputs": [
    {
     "name": "stdout",
     "output_type": "stream",
     "text": [
      "Epoch 1/30\n",
      "449/449 [==============================] - 210s 466ms/step - loss: 1.2695 - accuracy: 0.5135 - val_loss: 1.2435 - val_accuracy: 0.5294\n",
      "Epoch 2/30\n",
      "449/449 [==============================] - 220s 491ms/step - loss: 1.2362 - accuracy: 0.5238 - val_loss: 1.2233 - val_accuracy: 0.5358\n",
      "Epoch 3/30\n",
      "449/449 [==============================] - 220s 489ms/step - loss: 1.2086 - accuracy: 0.5377 - val_loss: 1.2278 - val_accuracy: 0.5274\n",
      "Epoch 4/30\n",
      "449/449 [==============================] - 217s 483ms/step - loss: 1.1879 - accuracy: 0.5445 - val_loss: 1.1942 - val_accuracy: 0.5422\n",
      "Epoch 5/30\n",
      "449/449 [==============================] - 216s 481ms/step - loss: 1.1561 - accuracy: 0.5578 - val_loss: 1.1843 - val_accuracy: 0.5447\n",
      "Epoch 6/30\n",
      "449/449 [==============================] - 216s 480ms/step - loss: 1.1390 - accuracy: 0.5651 - val_loss: 1.1667 - val_accuracy: 0.5553\n",
      "Epoch 7/30\n",
      "449/449 [==============================] - 214s 476ms/step - loss: 1.1200 - accuracy: 0.5716 - val_loss: 1.1741 - val_accuracy: 0.5528\n",
      "Epoch 8/30\n",
      "449/449 [==============================] - 216s 481ms/step - loss: 1.1007 - accuracy: 0.5776 - val_loss: 1.1615 - val_accuracy: 0.5581\n",
      "Epoch 9/30\n",
      "449/449 [==============================] - 216s 481ms/step - loss: 1.0831 - accuracy: 0.5832 - val_loss: 1.1707 - val_accuracy: 0.5545\n",
      "Epoch 10/30\n",
      "449/449 [==============================] - 215s 479ms/step - loss: 1.0615 - accuracy: 0.5932 - val_loss: 1.1661 - val_accuracy: 0.5648\n",
      "Epoch 11/30\n",
      "449/449 [==============================] - 215s 479ms/step - loss: 1.0557 - accuracy: 0.5969 - val_loss: 1.1623 - val_accuracy: 0.5617\n",
      "Epoch 12/30\n",
      "449/449 [==============================] - 220s 491ms/step - loss: 1.0311 - accuracy: 0.6080 - val_loss: 1.1715 - val_accuracy: 0.5561\n",
      "Epoch 13/30\n",
      "449/449 [==============================] - 220s 490ms/step - loss: 1.0155 - accuracy: 0.6119 - val_loss: 1.1602 - val_accuracy: 0.5673\n",
      "Epoch 14/30\n",
      "449/449 [==============================] - 215s 479ms/step - loss: 1.0065 - accuracy: 0.6148 - val_loss: 1.1536 - val_accuracy: 0.5670\n",
      "Epoch 15/30\n",
      "449/449 [==============================] - 214s 477ms/step - loss: 0.9846 - accuracy: 0.6270 - val_loss: 1.1493 - val_accuracy: 0.5740\n",
      "Epoch 16/30\n",
      "449/449 [==============================] - 221s 493ms/step - loss: 0.9695 - accuracy: 0.6303 - val_loss: 1.1664 - val_accuracy: 0.5712\n",
      "Epoch 17/30\n",
      "449/449 [==============================] - 215s 480ms/step - loss: 0.9543 - accuracy: 0.6354 - val_loss: 1.1811 - val_accuracy: 0.5639\n",
      "Epoch 18/30\n",
      "449/449 [==============================] - 216s 481ms/step - loss: 0.9426 - accuracy: 0.6415 - val_loss: 1.1678 - val_accuracy: 0.5639\n",
      "Epoch 19/30\n",
      "449/449 [==============================] - 214s 476ms/step - loss: 0.9230 - accuracy: 0.6463 - val_loss: 1.1853 - val_accuracy: 0.5634\n",
      "Epoch 20/30\n",
      "449/449 [==============================] - 221s 493ms/step - loss: 0.9105 - accuracy: 0.6539 - val_loss: 1.1838 - val_accuracy: 0.5706\n",
      "Epoch 21/30\n",
      "449/449 [==============================] - 241s 536ms/step - loss: 0.8928 - accuracy: 0.6569 - val_loss: 1.2018 - val_accuracy: 0.5690\n",
      "Epoch 22/30\n",
      "449/449 [==============================] - 214s 476ms/step - loss: 0.8801 - accuracy: 0.6646 - val_loss: 1.2220 - val_accuracy: 0.5690\n",
      "Epoch 23/30\n",
      "449/449 [==============================] - 218s 485ms/step - loss: 0.8724 - accuracy: 0.6708 - val_loss: 1.2120 - val_accuracy: 0.5715\n",
      "Epoch 24/30\n",
      "433/449 [===========================>..] - ETA: 7s - loss: 0.8526 - accuracy: 0.6779"
     ]
    }
   ],
   "source": [
    "model.fit(X_train, train_y,\n",
    "          batch_size=batch_size,\n",
    "          epochs=epochs,\n",
    "          verbose=1,\n",
    "          validation_data=(X_test, test_y),\n",
    "          shuffle=True)"
   ]
  },
  {
   "cell_type": "code",
   "execution_count": 18,
   "id": "61e8f4f4",
   "metadata": {},
   "outputs": [],
   "source": [
    "#Saving the model\n",
    "\n",
    "\n",
    "fer_json = model.to_json()\n",
    "with open(\"fer.json\", \"w\") as json_file:\n",
    "    json_file.write(fer_json)\n",
    "model.save_weights(\"fer.h5\")"
   ]
  },
  {
   "cell_type": "code",
   "execution_count": 19,
   "id": "281523ca",
   "metadata": {},
   "outputs": [
    {
     "name": "stdout",
     "output_type": "stream",
     "text": [
      "Train loss: 0.5402578115463257\n",
      "Train accuracy: 81.6433846950531\n",
      "Test loss: 1.2003356218338013\n",
      "Test accuracy: 58.149904012680054\n"
     ]
    }
   ],
   "source": [
    "#Evaluate model [2]\n",
    "\n",
    "\n",
    "train_score = model.evaluate(X_train, train_y, verbose=0)\n",
    "print('Train loss:', train_score[0])\n",
    "print('Train accuracy:', 100*train_score[1])\n",
    "test_score = model.evaluate(X_test, test_y, verbose=0)\n",
    "print('Test loss:', test_score[0])\n",
    "print('Test accuracy:', 100*test_score[1])"
   ]
  },
  {
   "cell_type": "code",
   "execution_count": 20,
   "id": "23383a85",
   "metadata": {},
   "outputs": [
    {
     "name": "stdout",
     "output_type": "stream",
     "text": [
      "113/113 [==============================] - 6s 48ms/step\n"
     ]
    },
    {
     "data": {
      "image/png": "[encoded data removed]",
      "text/plain": [
       "<Figure size 800x600 with 2 Axes>"
      ]
     },
     "metadata": {},
     "output_type": "display_data"
    }
   ],
   "source": [
    "#Confusion Matrix[2]\n",
    "\n",
    "\n",
    "from keras.models import Sequential\n",
    "from keras.layers import Dense\n",
    "from keras.optimizers import Adam\n",
    "from keras.preprocessing.image import ImageDataGenerator\n",
    "from sklearn.metrics import confusion_matrix\n",
    "import numpy as np\n",
    "import matplotlib.pyplot as plt\n",
    "import seaborn as sns\n",
    "\n",
    "# Assuming you have trained your model and obtained predictions on test data\n",
    "# Replace these with your actual predictions and true labels\n",
    "y_pred = np.argmax(model.predict(X_test), axis=1)\n",
    "\n",
    "y_true = np.argmax(test_y, axis=1)  # Convert one-hot encoded true labels back to categorical\n",
    "\n",
    "# Calculate confusion matrix\n",
    "cm = confusion_matrix(y_true, y_pred)\n",
    "\n",
    "# Plot confusion matrix\n",
    "plt.figure(figsize=(8, 6))\n",
    "sns.heatmap(cm, annot=True, fmt='d', cmap='Blues')\n",
    "plt.title('Confusion Matrix')\n",
    "plt.xlabel('Predicted label')\n",
    "plt.ylabel('True label')\n",
    "plt.show()\n"
   ]
  },
  {
   "cell_type": "code",
   "execution_count": 21,
   "id": "8b30a038",
   "metadata": {},
   "outputs": [],
   "source": [
    "def emotion_analysis(emotions):\n",
    "  objects = ('angry', 'disgust', 'fear', 'happy', 'sad', 'surprise', 'neutral')\n",
    "  y_pos = np.arange(len(objects))\n",
    "  plt.bar(y_pos, emotions, align='center', alpha=0.5)\n",
    "  plt.xticks(y_pos, objects)\n",
    "  plt.ylabel('percentage')\n",
    "  plt.title('emotion')\n",
    "  plt.show()"
   ]
  },
  {
   "cell_type": "code",
   "execution_count": 22,
   "id": "37aca08f",
   "metadata": {},
   "outputs": [
    {
     "name": "stdout",
     "output_type": "stream",
     "text": [
      "1/1 [==============================] - 0s 26ms/step\n"
     ]
    },
    {
     "data": {
      "image/png": "[encoded data removed]",
      "text/plain": [
       "<Figure size 640x480 with 1 Axes>"
      ]
     },
     "metadata": {},
     "output_type": "display_data"
    },
    {
     "data": {
      "image/png": "[encoded data removed]",
      "text/plain": [
       "<Figure size 640x480 with 1 Axes>"
      ]
     },
     "metadata": {},
     "output_type": "display_data"
    }
   ],
   "source": [
    "#Testing[2]\n",
    "\n",
    "\n",
    "from keras.preprocessing.image import ImageDataGenerator\n",
    "from keras.preprocessing import image\n",
    "from keras.utils import load_img, img_to_array\n",
    "from matplotlib import pyplot as plt\n",
    "\n",
    "# Load the image\n",
    "img_path = \"D:/data/EEC/EEC dataset/happyface.png\"\n",
    "img = load_img(img_path, color_mode='grayscale', target_size=(48, 48))\n",
    "\n",
    "# Convert the image to an array\n",
    "x = img_to_array(img)\n",
    "#img = load_img(\"D:\\data\\EEC\\EEC dataset\\happyface.png\", grayscale=True, target_size=(48, 48))\n",
    "#x = img_to_array(img)\n",
    "x = np.expand_dims(x, axis = 0)\n",
    "x /= 255\n",
    "custom = model.predict(x)\n",
    "emotion_analysis(custom[0])\n",
    "x = np.array(x, 'float32')\n",
    "x = x.reshape([48, 48]);\n",
    "plt.gray()\n",
    "plt.imshow(x)\n",
    "plt.show()"
   ]
  },
  {
   "cell_type": "code",
   "execution_count": 1,
   "id": "593bd8b7",
   "metadata": {},
   "outputs": [
    {
     "name": "stdout",
     "output_type": "stream",
     "text": [
      "Collecting deepface\n",
      "  Obtaining dependency information for deepface from https://files.pythonhosted.org/packages/4c/05/3e881f6d3c20d45561ab3c4d8c5c38c500eff4743ad155075c2bcb519a84/deepface-0.0.92-py3-none-any.whl.metadata\n",
      "  Downloading deepface-0.0.92-py3-none-any.whl.metadata (27 kB)\n",
      "Requirement already satisfied: requests>=2.27.1 in d:\\users\\house of musa\\anaconda3\\lib\\site-packages (from deepface) (2.31.0)\n",
      "Requirement already satisfied: numpy>=1.14.0 in d:\\users\\house of musa\\anaconda3\\lib\\site-packages (from deepface) (1.23.5)\n",
      "Requirement already satisfied: pandas>=0.23.4 in d:\\users\\house of musa\\anaconda3\\lib\\site-packages (from deepface) (2.0.3)\n",
      "Collecting gdown>=3.10.1 (from deepface)\n",
      "  Obtaining dependency information for gdown>=3.10.1 from https://files.pythonhosted.org/packages/54/70/e07c381e6488a77094f04c85c9caf1c8008cdc30778f7019bc52e5285ef0/gdown-5.2.0-py3-none-any.whl.metadata\n",
      "  Downloading gdown-5.2.0-py3-none-any.whl.metadata (5.8 kB)\n",
      "Requirement already satisfied: tqdm>=4.30.0 in d:\\users\\house of musa\\anaconda3\\lib\\site-packages (from deepface) (4.65.0)\n",
      "Requirement already satisfied: Pillow>=5.2.0 in d:\\users\\house of musa\\anaconda3\\lib\\site-packages (from deepface) (9.4.0)\n",
      "Requirement already satisfied: opencv-python>=4.5.5.64 in d:\\users\\house of musa\\anaconda3\\lib\\site-packages (from deepface) (4.10.0.84)\n",
      "Requirement already satisfied: tensorflow>=1.9.0 in c:\\users\\house of musa\\appdata\\roaming\\python\\python311\\site-packages (from deepface) (2.12.0)\n",
      "Requirement already satisfied: keras>=2.2.0 in c:\\users\\house of musa\\appdata\\roaming\\python\\python311\\site-packages (from deepface) (2.12.0)\n",
      "Requirement already satisfied: Flask>=1.1.2 in d:\\users\\house of musa\\anaconda3\\lib\\site-packages (from deepface) (2.2.2)\n",
      "Collecting mtcnn>=0.1.0 (from deepface)\n",
      "  Obtaining dependency information for mtcnn>=0.1.0 from https://files.pythonhosted.org/packages/09/d1/2a4269e387edb97484157b872fa8a1953b53dcafbe4842a1967f549ac5ea/mtcnn-0.1.1-py3-none-any.whl.metadata\n",
      "  Downloading mtcnn-0.1.1-py3-none-any.whl.metadata (5.8 kB)\n",
      "Collecting retina-face>=0.0.1 (from deepface)\n",
      "  Obtaining dependency information for retina-face>=0.0.1 from https://files.pythonhosted.org/packages/84/87/30c5beef6ef3cb60f80f02d3f934b86efda21aca3225f174d127192d43bb/retina_face-0.0.17-py3-none-any.whl.metadata\n",
      "  Downloading retina_face-0.0.17-py3-none-any.whl.metadata (10 kB)\n",
      "Collecting fire>=0.4.0 (from deepface)\n",
      "  Downloading fire-0.6.0.tar.gz (88 kB)\n",
      "     ---------------------------------------- 0.0/88.4 kB ? eta -:--:--\n",
      "     ----------------- -------------------- 41.0/88.4 kB 991.0 kB/s eta 0:00:01\n",
      "     ----------------------------------- -- 81.9/88.4 kB 919.0 kB/s eta 0:00:01\n",
      "     -------------------------------------- 88.4/88.4 kB 831.9 kB/s eta 0:00:00\n",
      "  Preparing metadata (setup.py): started\n",
      "  Preparing metadata (setup.py): finished with status 'done'\n",
      "Collecting gunicorn>=20.1.0 (from deepface)\n",
      "  Obtaining dependency information for gunicorn>=20.1.0 from https://files.pythonhosted.org/packages/29/97/6d610ae77b5633d24b69c2ff1ac3044e0e565ecbd1ec188f02c45073054c/gunicorn-22.0.0-py3-none-any.whl.metadata\n",
      "  Downloading gunicorn-22.0.0-py3-none-any.whl.metadata (4.4 kB)\n",
      "Requirement already satisfied: six in d:\\users\\house of musa\\anaconda3\\lib\\site-packages (from fire>=0.4.0->deepface) (1.16.0)\n",
      "Requirement already satisfied: termcolor in d:\\users\\house of musa\\anaconda3\\lib\\site-packages (from fire>=0.4.0->deepface) (2.3.0)\n",
      "Requirement already satisfied: Werkzeug>=2.2.2 in d:\\users\\house of musa\\anaconda3\\lib\\site-packages (from Flask>=1.1.2->deepface) (2.2.3)\n",
      "Requirement already satisfied: Jinja2>=3.0 in d:\\users\\house of musa\\anaconda3\\lib\\site-packages (from Flask>=1.1.2->deepface) (3.1.2)\n",
      "Requirement already satisfied: itsdangerous>=2.0 in d:\\users\\house of musa\\anaconda3\\lib\\site-packages (from Flask>=1.1.2->deepface) (2.0.1)\n",
      "Requirement already satisfied: click>=8.0 in d:\\users\\house of musa\\anaconda3\\lib\\site-packages (from Flask>=1.1.2->deepface) (8.0.4)\n",
      "Requirement already satisfied: beautifulsoup4 in d:\\users\\house of musa\\anaconda3\\lib\\site-packages (from gdown>=3.10.1->deepface) (4.12.2)\n",
      "Requirement already satisfied: filelock in d:\\users\\house of musa\\anaconda3\\lib\\site-packages (from gdown>=3.10.1->deepface) (3.9.0)\n",
      "Requirement already satisfied: packaging in d:\\users\\house of musa\\anaconda3\\lib\\site-packages (from gunicorn>=20.1.0->deepface) (23.1)\n",
      "Requirement already satisfied: python-dateutil>=2.8.2 in d:\\users\\house of musa\\anaconda3\\lib\\site-packages (from pandas>=0.23.4->deepface) (2.8.2)\n",
      "Requirement already satisfied: pytz>=2020.1 in d:\\users\\house of musa\\anaconda3\\lib\\site-packages (from pandas>=0.23.4->deepface) (2023.3.post1)\n",
      "Requirement already satisfied: tzdata>=2022.1 in d:\\users\\house of musa\\anaconda3\\lib\\site-packages (from pandas>=0.23.4->deepface) (2023.3)\n",
      "Requirement already satisfied: charset-normalizer<4,>=2 in d:\\users\\house of musa\\anaconda3\\lib\\site-packages (from requests>=2.27.1->deepface) (2.0.4)\n",
      "Requirement already satisfied: idna<4,>=2.5 in d:\\users\\house of musa\\anaconda3\\lib\\site-packages (from requests>=2.27.1->deepface) (3.4)\n",
      "Requirement already satisfied: urllib3<3,>=1.21.1 in d:\\users\\house of musa\\anaconda3\\lib\\site-packages (from requests>=2.27.1->deepface) (1.26.16)\n",
      "Requirement already satisfied: certifi>=2017.4.17 in d:\\users\\house of musa\\anaconda3\\lib\\site-packages (from requests>=2.27.1->deepface) (2023.7.22)\n",
      "Requirement already satisfied: tensorflow-intel==2.12.0 in c:\\users\\house of musa\\appdata\\roaming\\python\\python311\\site-packages (from tensorflow>=1.9.0->deepface) (2.12.0)\n",
      "Requirement already satisfied: absl-py>=1.0.0 in d:\\users\\house of musa\\anaconda3\\lib\\site-packages (from tensorflow-intel==2.12.0->tensorflow>=1.9.0->deepface) (2.0.0)\n",
      "Requirement already satisfied: astunparse>=1.6.0 in d:\\users\\house of musa\\anaconda3\\lib\\site-packages (from tensorflow-intel==2.12.0->tensorflow>=1.9.0->deepface) (1.6.3)\n",
      "Requirement already satisfied: flatbuffers>=2.0 in d:\\users\\house of musa\\anaconda3\\lib\\site-packages (from tensorflow-intel==2.12.0->tensorflow>=1.9.0->deepface) (23.5.26)\n",
      "Requirement already satisfied: gast<=0.4.0,>=0.2.1 in c:\\users\\house of musa\\appdata\\roaming\\python\\python311\\site-packages (from tensorflow-intel==2.12.0->tensorflow>=1.9.0->deepface) (0.4.0)\n",
      "Requirement already satisfied: google-pasta>=0.1.1 in d:\\users\\house of musa\\anaconda3\\lib\\site-packages (from tensorflow-intel==2.12.0->tensorflow>=1.9.0->deepface) (0.2.0)\n",
      "Requirement already satisfied: h5py>=2.9.0 in d:\\users\\house of musa\\anaconda3\\lib\\site-packages (from tensorflow-intel==2.12.0->tensorflow>=1.9.0->deepface) (3.9.0)\n",
      "Requirement already satisfied: jax>=0.3.15 in c:\\users\\house of musa\\appdata\\roaming\\python\\python311\\site-packages (from tensorflow-intel==2.12.0->tensorflow>=1.9.0->deepface) (0.4.21)\n",
      "Requirement already satisfied: libclang>=13.0.0 in d:\\users\\house of musa\\anaconda3\\lib\\site-packages (from tensorflow-intel==2.12.0->tensorflow>=1.9.0->deepface) (16.0.6)\n",
      "Requirement already satisfied: opt-einsum>=2.3.2 in d:\\users\\house of musa\\anaconda3\\lib\\site-packages (from tensorflow-intel==2.12.0->tensorflow>=1.9.0->deepface) (3.3.0)\n",
      "Requirement already satisfied: protobuf!=4.21.0,!=4.21.1,!=4.21.2,!=4.21.3,!=4.21.4,!=4.21.5,<5.0.0dev,>=3.20.3 in d:\\users\\house of musa\\anaconda3\\lib\\site-packages (from tensorflow-intel==2.12.0->tensorflow>=1.9.0->deepface) (4.25.0)\n",
      "Requirement already satisfied: setuptools in d:\\users\\house of musa\\anaconda3\\lib\\site-packages (from tensorflow-intel==2.12.0->tensorflow>=1.9.0->deepface) (68.0.0)\n",
      "Requirement already satisfied: typing-extensions>=3.6.6 in d:\\users\\house of musa\\anaconda3\\lib\\site-packages (from tensorflow-intel==2.12.0->tensorflow>=1.9.0->deepface) (4.7.1)\n",
      "Requirement already satisfied: wrapt<1.15,>=1.11.0 in d:\\users\\house of musa\\anaconda3\\lib\\site-packages (from tensorflow-intel==2.12.0->tensorflow>=1.9.0->deepface) (1.14.1)\n",
      "Requirement already satisfied: grpcio<2.0,>=1.24.3 in d:\\users\\house of musa\\anaconda3\\lib\\site-packages (from tensorflow-intel==2.12.0->tensorflow>=1.9.0->deepface) (1.59.2)\n",
      "Requirement already satisfied: tensorboard<2.13,>=2.12 in c:\\users\\house of musa\\appdata\\roaming\\python\\python311\\site-packages (from tensorflow-intel==2.12.0->tensorflow>=1.9.0->deepface) (2.12.3)\n",
      "Requirement already satisfied: tensorflow-estimator<2.13,>=2.12.0 in d:\\users\\house of musa\\anaconda3\\lib\\site-packages (from tensorflow-intel==2.12.0->tensorflow>=1.9.0->deepface) (2.12.0)\n",
      "Requirement already satisfied: tensorflow-io-gcs-filesystem>=0.23.1 in d:\\users\\house of musa\\anaconda3\\lib\\site-packages (from tensorflow-intel==2.12.0->tensorflow>=1.9.0->deepface) (0.31.0)\n",
      "Requirement already satisfied: colorama in d:\\users\\house of musa\\anaconda3\\lib\\site-packages (from tqdm>=4.30.0->deepface) (0.4.6)\n",
      "Requirement already satisfied: MarkupSafe>=2.0 in d:\\users\\house of musa\\anaconda3\\lib\\site-packages (from Jinja2>=3.0->Flask>=1.1.2->deepface) (2.1.1)\n",
      "Requirement already satisfied: soupsieve>1.2 in d:\\users\\house of musa\\anaconda3\\lib\\site-packages (from beautifulsoup4->gdown>=3.10.1->deepface) (2.4)\n",
      "Requirement already satisfied: PySocks!=1.5.7,>=1.5.6 in d:\\users\\house of musa\\anaconda3\\lib\\site-packages (from requests>=2.27.1->deepface) (1.7.1)\n",
      "Requirement already satisfied: wheel<1.0,>=0.23.0 in d:\\users\\house of musa\\anaconda3\\lib\\site-packages (from astunparse>=1.6.0->tensorflow-intel==2.12.0->tensorflow>=1.9.0->deepface) (0.38.4)\n",
      "Requirement already satisfied: ml-dtypes>=0.2.0 in d:\\users\\house of musa\\anaconda3\\lib\\site-packages (from jax>=0.3.15->tensorflow-intel==2.12.0->tensorflow>=1.9.0->deepface) (0.2.0)\n",
      "Requirement already satisfied: scipy>=1.9 in d:\\users\\house of musa\\anaconda3\\lib\\site-packages (from jax>=0.3.15->tensorflow-intel==2.12.0->tensorflow>=1.9.0->deepface) (1.11.1)\n",
      "Requirement already satisfied: google-auth<3,>=1.6.3 in d:\\users\\house of musa\\anaconda3\\lib\\site-packages (from tensorboard<2.13,>=2.12->tensorflow-intel==2.12.0->tensorflow>=1.9.0->deepface) (2.23.4)\n",
      "Requirement already satisfied: google-auth-oauthlib<1.1,>=0.5 in d:\\users\\house of musa\\anaconda3\\lib\\site-packages (from tensorboard<2.13,>=2.12->tensorflow-intel==2.12.0->tensorflow>=1.9.0->deepface) (1.0.0)\n",
      "Requirement already satisfied: markdown>=2.6.8 in d:\\users\\house of musa\\anaconda3\\lib\\site-packages (from tensorboard<2.13,>=2.12->tensorflow-intel==2.12.0->tensorflow>=1.9.0->deepface) (3.4.1)\n",
      "Requirement already satisfied: tensorboard-data-server<0.8.0,>=0.7.0 in d:\\users\\house of musa\\anaconda3\\lib\\site-packages (from tensorboard<2.13,>=2.12->tensorflow-intel==2.12.0->tensorflow>=1.9.0->deepface) (0.7.2)\n",
      "Requirement already satisfied: cachetools<6.0,>=2.0.0 in d:\\users\\house of musa\\anaconda3\\lib\\site-packages (from google-auth<3,>=1.6.3->tensorboard<2.13,>=2.12->tensorflow-intel==2.12.0->tensorflow>=1.9.0->deepface) (5.3.2)\n",
      "Requirement already satisfied: pyasn1-modules>=0.2.1 in d:\\users\\house of musa\\anaconda3\\lib\\site-packages (from google-auth<3,>=1.6.3->tensorboard<2.13,>=2.12->tensorflow-intel==2.12.0->tensorflow>=1.9.0->deepface) (0.2.8)\n",
      "Requirement already satisfied: rsa<5,>=3.1.4 in d:\\users\\house of musa\\anaconda3\\lib\\site-packages (from google-auth<3,>=1.6.3->tensorboard<2.13,>=2.12->tensorflow-intel==2.12.0->tensorflow>=1.9.0->deepface) (4.9)\n",
      "Requirement already satisfied: requests-oauthlib>=0.7.0 in d:\\users\\house of musa\\anaconda3\\lib\\site-packages (from google-auth-oauthlib<1.1,>=0.5->tensorboard<2.13,>=2.12->tensorflow-intel==2.12.0->tensorflow>=1.9.0->deepface) (1.3.1)\n",
      "Requirement already satisfied: pyasn1<0.5.0,>=0.4.6 in d:\\users\\house of musa\\anaconda3\\lib\\site-packages (from pyasn1-modules>=0.2.1->google-auth<3,>=1.6.3->tensorboard<2.13,>=2.12->tensorflow-intel==2.12.0->tensorflow>=1.9.0->deepface) (0.4.8)\n",
      "Requirement already satisfied: oauthlib>=3.0.0 in d:\\users\\house of musa\\anaconda3\\lib\\site-packages (from requests-oauthlib>=0.7.0->google-auth-oauthlib<1.1,>=0.5->tensorboard<2.13,>=2.12->tensorflow-intel==2.12.0->tensorflow>=1.9.0->deepface) (3.2.2)\n",
      "Downloading deepface-0.0.92-py3-none-any.whl (105 kB)\n",
      "   ---------------------------------------- 0.0/105.5 kB ? eta -:--:--\n",
      "   ---------------------------------------- 105.5/105.5 kB 6.4 MB/s eta 0:00:00\n",
      "Downloading gdown-5.2.0-py3-none-any.whl (18 kB)\n",
      "Downloading gunicorn-22.0.0-py3-none-any.whl (84 kB)\n",
      "   ---------------------------------------- 0.0/84.4 kB ? eta -:--:--\n",
      "   ---------------------------------------- 84.4/84.4 kB 4.9 MB/s eta 0:00:00\n",
      "Downloading mtcnn-0.1.1-py3-none-any.whl (2.3 MB)\n",
      "   ---------------------------------------- 0.0/2.3 MB ? eta -:--:--\n",
      "   - -------------------------------------- 0.1/2.3 MB 6.4 MB/s eta 0:00:01\n",
      "   --- ------------------------------------ 0.2/2.3 MB 2.1 MB/s eta 0:00:01\n",
      "   ------ --------------------------------- 0.4/2.3 MB 3.3 MB/s eta 0:00:01\n",
      "   ---------- ----------------------------- 0.6/2.3 MB 3.3 MB/s eta 0:00:01\n",
      "   --------------- ------------------------ 0.9/2.3 MB 4.4 MB/s eta 0:00:01\n",
      "   ---------------------- ----------------- 1.3/2.3 MB 4.7 MB/s eta 0:00:01\n",
      "   -------------------------------- ------- 1.8/2.3 MB 5.8 MB/s eta 0:00:01\n",
      "   ---------------------------------------  2.3/2.3 MB 6.2 MB/s eta 0:00:01\n",
      "   ---------------------------------------- 2.3/2.3 MB 6.0 MB/s eta 0:00:00\n",
      "Downloading retina_face-0.0.17-py3-none-any.whl (25 kB)\n",
      "Building wheels for collected packages: fire\n",
      "  Building wheel for fire (setup.py): started\n",
      "  Building wheel for fire (setup.py): finished with status 'done'\n",
      "  Created wheel for fire: filename=fire-0.6.0-py2.py3-none-any.whl size=117047 sha256=d011cb3a5684ac9167602ee928d40feaefe465243922d726713793e07359efc9\n",
      "  Stored in directory: c:\\users\\house of musa\\appdata\\local\\pip\\cache\\wheels\\6a\\f3\\0c\\fa347dfa663f573462c6533d259c2c859e97e103d1ce21538f\n",
      "Successfully built fire\n",
      "Installing collected packages: gunicorn, fire, mtcnn, gdown, retina-face, deepface\n",
      "Successfully installed deepface-0.0.92 fire-0.6.0 gdown-5.2.0 gunicorn-22.0.0 mtcnn-0.1.1 retina-face-0.0.17\n"
     ]
    }
   ],
   "source": [
    "!pip install deepface"
   ]
  },
  {
   "cell_type": "code",
   "execution_count": null,
   "id": "36b3bd04",
   "metadata": {},
   "outputs": [],
   "source": [
    "import cv2\n",
    "import numpy as np\n",
    "from keras.models import model_from_json\n",
    "from keras.preprocessing import image\n",
    "\n",
    "# Load model\n",
    "model = model_from_json(open(\"fer.json\", \"r\").read())\n",
    "model.load_weights('fer.h5')\n",
    "face_haar_cascade = cv2.CascadeClassifier('haarcascade_frontalface_default.xml')\n",
    "cap = cv2.VideoCapture(0)\n",
    "\n",
    "while True:\n",
    "    ret, test_img = cap.read()  # captures frame and returns boolean value and captured image\n",
    "    if not ret:\n",
    "        print(\"Error: Unable to capture frame from the webcam.\")\n",
    "        break\n",
    "\n",
    "    gray_img = cv2.cvtColor(test_img, cv2.COLOR_BGR2GRAY)\n",
    "\n",
    "    faces_detected = face_haar_cascade.detectMultiScale(gray_img, 1.32, 5)\n",
    "\n",
    "    for (x, y, w, h) in faces_detected:\n",
    "        cv2.rectangle(test_img, (x, y), (x + w, y + h), (255, 0, 0), thickness=7)\n",
    "        roi_gray = gray_img[y:y + w, x:x + h]  # cropping region of interest i.e. face area from  image\n",
    "        roi_gray = cv2.resize(roi_gray, (48, 48))\n",
    "        img_pixels = image.img_to_array(roi_gray)\n",
    "        img_pixels = np.expand_dims(img_pixels, axis=0)\n",
    "        img_pixels /= 255\n",
    "\n",
    "        predictions = model.predict(img_pixels)\n",
    "\n",
    "        # find max indexed array\n",
    "        max_index = np.argmax(predictions[0])\n",
    "\n",
    "        emotions = ('angry', 'disgust', 'fear', 'happy', 'sad', 'surprise', 'neutral')\n",
    "        predicted_emotion = emotions[max_index]\n",
    "\n",
    "        cv2.putText(test_img, predicted_emotion, (int(x), int(y)), cv2.FONT_HERSHEY_SIMPLEX, 1, (0, 0, 255), 2)\n",
    "\n",
    "    resized_img = cv2.resize(test_img, (1000, 700))\n",
    "    cv2.imshow('Facial emotion analysis ', resized_img)\n",
    "\n",
    "    if cv2.waitKey(10) == ord('q'):  # wait until 'q' key is pressed\n",
    "        break"
   ]
  },
  {
   "cell_type": "code",
   "execution_count": null,
   "id": "f3742f1e",
   "metadata": {},
   "outputs": [],
   "source": []
  }
 ],
 "metadata": {
  "kernelspec": {
   "display_name": "Python 3 (ipykernel)",
   "language": "python",
   "name": "python3"
  },
  "language_info": {
   "codemirror_mode": {
    "name": "ipython",
    "version": 3
   },
   "file_extension": ".py",
   "mimetype": "text/x-python",
   "name": "python",
   "nbconvert_exporter": "python",
   "pygments_lexer": "ipython3",
   "version": "3.11.5"
  }
 },
 "nbformat": 4,
 "nbformat_minor": 5
}
